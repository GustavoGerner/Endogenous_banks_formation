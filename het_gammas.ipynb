{
 "cells": [
  {
   "cell_type": "markdown",
   "id": "c17c7d9e",
   "metadata": {},
   "source": [
    "# Heterogeneous Gammas - Gustavo Gerner Moherdaui"
   ]
  },
  {
   "cell_type": "code",
   "execution_count": 9,
   "id": "f6105de6",
   "metadata": {},
   "outputs": [
    {
     "name": "stdout",
     "output_type": "stream",
     "text": [
      "Collecting mystic\n",
      "  Downloading mystic-0.4.1-py3-none-any.whl (401 kB)\n",
      "Collecting dill>=0.3.7\n",
      "  Downloading dill-0.3.7-py3-none-any.whl (115 kB)\n",
      "Requirement already satisfied: sympy>=0.6.7 in c:\\programdata\\anaconda3\\lib\\site-packages (from mystic) (1.8)\n",
      "Collecting klepto>=0.2.4\n",
      "  Downloading klepto-0.2.4-py3-none-any.whl (81 kB)\n",
      "Requirement already satisfied: mpmath>=0.19 in c:\\programdata\\anaconda3\\lib\\site-packages (from mystic) (1.2.1)\n",
      "Requirement already satisfied: numpy>=1.0 in c:\\users\\asus vivobook s\\appdata\\roaming\\python\\python38\\site-packages (from mystic) (1.22.4)\n",
      "Collecting pox>=0.3.3\n",
      "  Downloading pox-0.3.3-py3-none-any.whl (29 kB)\n",
      "Installing collected packages: pox, dill, klepto, mystic\n",
      "  Attempting uninstall: dill\n",
      "    Found existing installation: dill 0.3.6\n",
      "    Uninstalling dill-0.3.6:\n",
      "      Successfully uninstalled dill-0.3.6\n",
      "Successfully installed dill-0.3.7 klepto-0.2.4 mystic-0.4.1 pox-0.3.3\n"
     ]
    }
   ],
   "source": [
    "!pip install mystic"
   ]
  },
  {
   "cell_type": "code",
   "execution_count": 27,
   "id": "5cd05178",
   "metadata": {},
   "outputs": [],
   "source": [
    "#Libraries:\n",
    "import matplotlib.pyplot as plt\n",
    "import numpy as np\n",
    "from scipy.stats import norm\n",
    "import pandas as pd\n",
    "import scipy\n",
    "from scipy.optimize import fsolve\n",
    "from scipy.optimize import minimize\n",
    "from scipy.optimize import Bounds\n",
    "from scipy.optimize import LinearConstraint \n",
    "from scipy.optimize import NonlinearConstraint\n",
    "import matplotlib.pyplot as plt\n",
    "import math"
   ]
  },
  {
   "cell_type": "code",
   "execution_count": 28,
   "id": "bdd5075b",
   "metadata": {},
   "outputs": [],
   "source": [
    "#Parameters\n",
    "N=5000 #Number of projects/agents\n",
    "mu_x=1 #Expected return of factor associated with relationship banking\n",
    "mu_z=1 #Expected return of the project \n",
    "sig_x=1 #Variance of factor associated with relationship banking\n",
    "sig_z=1 #Variance of the project\n",
    "gammas=np.linspace(0.38,0,N) #costs of each project, evenly spaced distribution"
   ]
  },
  {
   "cell_type": "code",
   "execution_count": 29,
   "id": "9a238a1a",
   "metadata": {},
   "outputs": [],
   "source": [
    "def gamma_bar(a,n):\n",
    "    sig_x_h=a**2*sig_x\n",
    "    sig_z_h=(1-a)**2*sig_z\n",
    "    return((1/(n*np.sqrt(2*np.pi)))*(sig_z_h+n*sig_x_h)/np.sqrt(sig_z_h+sig_x_h))"
   ]
  },
  {
   "cell_type": "markdown",
   "id": "93387478",
   "metadata": {},
   "source": [
    "$\\underline{\\gamma}$ (gamma_bar) refers to the cost where late investors are indifferent between obtaining the project information or not"
   ]
  },
  {
   "cell_type": "markdown",
   "id": "a2387232",
   "metadata": {},
   "source": [
    "# Formation of banks"
   ]
  },
  {
   "cell_type": "markdown",
   "id": "de91ae32",
   "metadata": {},
   "source": [
    "Agents choose between entering a coallition/accepting a new member to the coallition that forms the bank.\n",
    "In practice, we can just analyze the first agents with highest associated information costs and wheter it makes sence to accept the agent with highest information costs not in the coallition. If they accept him, the same process will occur to the next agent, if not, a bank is characterized. \n"
   ]
  },
  {
   "cell_type": "code",
   "execution_count": 30,
   "id": "c49e1465",
   "metadata": {},
   "outputs": [],
   "source": [
    "k=0 #auxiliary variables \n",
    "n=1\n",
    "a0=0.5\n",
    "banks=pd.DataFrame({\"size\":[],\"min_gamma\":[],\"alpha\":[],\"bank\":[]})"
   ]
  },
  {
   "cell_type": "code",
   "execution_count": 31,
   "id": "b364f9ba",
   "metadata": {},
   "outputs": [],
   "source": [
    "def objective(a):\n",
    "        return -a\n",
    "while n <N:\n",
    "\n",
    "    def constraint_1(a):\n",
    "        return -gamma_bar(a,n-k)+gammas[n-1]\n",
    "    \n",
    "    def constraint_2(a):\n",
    "        return -gamma_bar(a,n-k+1)+gammas[n]\n",
    "    \n",
    "    sol_1 = minimize(objective, a0, constraints={'type': 'ineq', 'fun': constraint_1},bounds=[(0,1)],tol=10**(-8))\n",
    "    alpha_1=sol_1.x\n",
    "    \n",
    "    sol_2 = minimize(objective, a0, constraints={'type': 'ineq', 'fun': constraint_2},bounds=[(0,1)],tol=10**(-8))\n",
    "    alpha_2=sol_2.x\n",
    "    \n",
    "    if (alpha_1<=alpha_2) or (sol_1.success==False):\n",
    "        a0=alpha_2\n",
    "        n=n+1\n",
    "    else:\n",
    "        banks.loc[len(banks)] = [n-k,gammas[n-1],alpha_1[0],sol_1.success]\n",
    "        k=n\n",
    "        a0=alpha_2\n",
    "        n=n+1\n",
    "else:\n",
    "    banks.loc[len(banks)] = [n-k,gammas[n-1],alpha_1[0],sol_1.success]"
   ]
  },
  {
   "cell_type": "code",
   "execution_count": 32,
   "id": "4169a6b6",
   "metadata": {
    "scrolled": true
   },
   "outputs": [
    {
     "data": {
      "text/html": [
       "<div>\n",
       "<style scoped>\n",
       "    .dataframe tbody tr th:only-of-type {\n",
       "        vertical-align: middle;\n",
       "    }\n",
       "\n",
       "    .dataframe tbody tr th {\n",
       "        vertical-align: top;\n",
       "    }\n",
       "\n",
       "    .dataframe thead th {\n",
       "        text-align: right;\n",
       "    }\n",
       "</style>\n",
       "<table border=\"1\" class=\"dataframe\">\n",
       "  <thead>\n",
       "    <tr style=\"text-align: right;\">\n",
       "      <th></th>\n",
       "      <th>size</th>\n",
       "      <th>min_gamma</th>\n",
       "      <th>alpha</th>\n",
       "      <th>bank</th>\n",
       "    </tr>\n",
       "  </thead>\n",
       "  <tbody>\n",
       "    <tr>\n",
       "      <th>0</th>\n",
       "      <td>4.0</td>\n",
       "      <td>0.379772</td>\n",
       "      <td>0.952537</td>\n",
       "      <td>1.0</td>\n",
       "    </tr>\n",
       "    <tr>\n",
       "      <th>1</th>\n",
       "      <td>4.0</td>\n",
       "      <td>0.379468</td>\n",
       "      <td>0.951794</td>\n",
       "      <td>1.0</td>\n",
       "    </tr>\n",
       "    <tr>\n",
       "      <th>2</th>\n",
       "      <td>4.0</td>\n",
       "      <td>0.379164</td>\n",
       "      <td>0.951051</td>\n",
       "      <td>1.0</td>\n",
       "    </tr>\n",
       "    <tr>\n",
       "      <th>3</th>\n",
       "      <td>4.0</td>\n",
       "      <td>0.378860</td>\n",
       "      <td>0.950308</td>\n",
       "      <td>1.0</td>\n",
       "    </tr>\n",
       "    <tr>\n",
       "      <th>4</th>\n",
       "      <td>4.0</td>\n",
       "      <td>0.378556</td>\n",
       "      <td>0.949566</td>\n",
       "      <td>1.0</td>\n",
       "    </tr>\n",
       "    <tr>\n",
       "      <th>...</th>\n",
       "      <td>...</td>\n",
       "      <td>...</td>\n",
       "      <td>...</td>\n",
       "      <td>...</td>\n",
       "    </tr>\n",
       "    <tr>\n",
       "      <th>218</th>\n",
       "      <td>65.0</td>\n",
       "      <td>0.021436</td>\n",
       "      <td>0.186196</td>\n",
       "      <td>1.0</td>\n",
       "    </tr>\n",
       "    <tr>\n",
       "      <th>219</th>\n",
       "      <td>66.0</td>\n",
       "      <td>0.016419</td>\n",
       "      <td>0.156612</td>\n",
       "      <td>1.0</td>\n",
       "    </tr>\n",
       "    <tr>\n",
       "      <th>220</th>\n",
       "      <td>68.0</td>\n",
       "      <td>0.011250</td>\n",
       "      <td>0.116842</td>\n",
       "      <td>1.0</td>\n",
       "    </tr>\n",
       "    <tr>\n",
       "      <th>221</th>\n",
       "      <td>71.0</td>\n",
       "      <td>0.005853</td>\n",
       "      <td>0.031772</td>\n",
       "      <td>1.0</td>\n",
       "    </tr>\n",
       "    <tr>\n",
       "      <th>222</th>\n",
       "      <td>77.0</td>\n",
       "      <td>0.000000</td>\n",
       "      <td>0.006558</td>\n",
       "      <td>0.0</td>\n",
       "    </tr>\n",
       "  </tbody>\n",
       "</table>\n",
       "<p>223 rows × 4 columns</p>\n",
       "</div>"
      ],
      "text/plain": [
       "     size  min_gamma     alpha  bank\n",
       "0     4.0   0.379772  0.952537   1.0\n",
       "1     4.0   0.379468  0.951794   1.0\n",
       "2     4.0   0.379164  0.951051   1.0\n",
       "3     4.0   0.378860  0.950308   1.0\n",
       "4     4.0   0.378556  0.949566   1.0\n",
       "..    ...        ...       ...   ...\n",
       "218  65.0   0.021436  0.186196   1.0\n",
       "219  66.0   0.016419  0.156612   1.0\n",
       "220  68.0   0.011250  0.116842   1.0\n",
       "221  71.0   0.005853  0.031772   1.0\n",
       "222  77.0   0.000000  0.006558   0.0\n",
       "\n",
       "[223 rows x 4 columns]"
      ]
     },
     "execution_count": 32,
     "metadata": {},
     "output_type": "execute_result"
    }
   ],
   "source": [
    "banks #bank==0 imply agents do not form a bank and are out of the market"
   ]
  },
  {
   "cell_type": "markdown",
   "id": "1e8a185a",
   "metadata": {},
   "source": [
    "We can see the model implies negative correlation between bank size and the lever of relationship banking ($\\alpha$), as expected. Also, it implies there are more smaller banks than big ones, something I (for the moment) cannot explain why it occurs but goes well with data (unexpected result from the model)"
   ]
  },
  {
   "cell_type": "code",
   "execution_count": 35,
   "id": "5e79b441",
   "metadata": {},
   "outputs": [
    {
     "data": {
      "text/plain": [
       "Text(0.5, 0, 'Bank Size')"
      ]
     },
     "execution_count": 35,
     "metadata": {},
     "output_type": "execute_result"
    },
    {
     "data": {
      "image/png": "[encoded data removed]",
      "text/plain": [
       "<Figure size 432x288 with 1 Axes>"
      ]
     },
     "metadata": {
      "needs_background": "light"
     },
     "output_type": "display_data"
    }
   ],
   "source": [
    "#Histogram showing bank size distributiom\n",
    "plt.hist(banks[\"size\"],bins=15)\n",
    "plt.xlabel('Bank Size')"
   ]
  },
  {
   "cell_type": "code",
   "execution_count": 21,
   "id": "5b7f64ce",
   "metadata": {},
   "outputs": [
    {
     "data": {
      "text/plain": [
       "Text(0.5, 1.0, 'Banks')"
      ]
     },
     "execution_count": 21,
     "metadata": {},
     "output_type": "execute_result"
    },
    {
     "data": {
      "image/png": "[encoded data removed]",
      "text/plain": [
       "<Figure size 432x288 with 1 Axes>"
      ]
     },
     "metadata": {
      "needs_background": "light"
     },
     "output_type": "display_data"
    }
   ],
   "source": [
    "#Plot showing relation between $\\alpha$ and bank size \n",
    "#(I recommend to use a lower N lever for visualisation, N=500 is a good option)\n",
    "plt.plot(banks.loc[0:len(banks)-2,\"size\"], banks.loc[0:len(banks)-2,\"alpha\"],'o',color= \"red\")\n",
    "plt.xlabel('Size')\n",
    "plt.ylabel(r'$\\alpha$')\n",
    "plt.title(\"Banks\")"
   ]
  }
 ],
 "metadata": {
  "kernelspec": {
   "display_name": "Python 3",
   "language": "python",
   "name": "python3"
  },
  "language_info": {
   "codemirror_mode": {
    "name": "ipython",
    "version": 3
   },
   "file_extension": ".py",
   "mimetype": "text/x-python",
   "name": "python",
   "nbconvert_exporter": "python",
   "pygments_lexer": "ipython3",
   "version": "3.8.8"
  }
 },
 "nbformat": 4,
 "nbformat_minor": 5
}
